{
 "cells": [
  {
   "cell_type": "code",
   "execution_count": 2,
   "metadata": {},
   "outputs": [
    {
     "name": "stdout",
     "output_type": "stream",
     "text": [
      "Max: 1\n",
      "Max: 4\n",
      "Max: 4\n",
      "Max: 4\n",
      "Max: 4\n"
     ]
    }
   ],
   "source": [
    "from collections import deque\n",
    "\n",
    "class MaxQ:\n",
    "    def __init__(self):\n",
    "        self.main_q = deque()\n",
    "        self.max_q = deque()\n",
    "\n",
    "    def push(self, value):\n",
    "        #Insert the value into main queue\n",
    "        self.main_q.append(value)\n",
    "\n",
    "        #Remove elements from the back of the max queue if they are less than the new value\n",
    "        while self.max_q and self.max_q[-1] < value:\n",
    "            self.max_q.pop()\n",
    "\n",
    "        #Insert the new value into max\n",
    "        self.max_q.append(value)\n",
    "\n",
    "    def pop(self):\n",
    "        if not self.main_q:\n",
    "            return None  #Return when Q is empty\n",
    "\n",
    "        #Check if the element\n",
    "        if self.main_q[0] == self.max_q[0]:\n",
    "            self.max_q.popleft()\n",
    "\n",
    "        return self.main_q.popleft()\n",
    "\n",
    "    def max(self):\n",
    "        if not self.max_q:\n",
    "            return None  #Max Q is empty\n",
    "        return self.max_q[0]\n",
    "\n",
    "#Does it work...\n",
    "mq = MaxQ()\n",
    "mq.push(1)\n",
    "print(\"Max:\", mq.max())\n",
    "mq.push(4)\n",
    "print(\"Max:\", mq.max())\n",
    "mq.push(2)\n",
    "print(\"Max:\", mq.max())\n",
    "mq.push(3)\n",
    "print(\"Max:\", mq.max())\n",
    "mq.pop()\n",
    "print(\"Max:\", mq.max())\n"
   ]
  }
 ],
 "metadata": {
  "kernelspec": {
   "display_name": "Python 3",
   "language": "python",
   "name": "python3"
  },
  "language_info": {
   "codemirror_mode": {
    "name": "ipython",
    "version": 3
   },
   "file_extension": ".py",
   "mimetype": "text/x-python",
   "name": "python",
   "nbconvert_exporter": "python",
   "pygments_lexer": "ipython3",
   "version": "3.10.11"
  }
 },
 "nbformat": 4,
 "nbformat_minor": 2
}
