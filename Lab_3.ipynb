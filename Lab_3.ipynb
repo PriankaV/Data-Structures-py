{
 "cells": [
  {
   "cell_type": "code",
   "execution_count": 3,
   "metadata": {},
   "outputs": [
    {
     "name": "stdout",
     "output_type": "stream",
     "text": [
      "[9, 8, 7]\n",
      "[6, 5, 4]\n",
      "[3, 2, 1]\n"
     ]
    }
   ],
   "source": [
    "#Part 1\n",
    "#Output should be [9,8,7] [6,5,4] [3,2.1]d\n",
    "def rotate_matrix(matrix):\n",
    "    n = len(matrix)\n",
    "    \n",
    "    #New matrix\n",
    "    rotated_matrix = [[0] * n for _ in range(n)]\n",
    "    \n",
    "    #Writing rows of og matrix rows to columns \n",
    "    for i in range(n):\n",
    "        for j in range(n):\n",
    "            rotated_matrix[j][n - 1 - i] = matrix[i][j]\n",
    "    \n",
    "    #Copy the rotated matrix back to the original matrix\n",
    "    for i in range(n):\n",
    "        for j in range(n):\n",
    "            matrix[i][j] = rotated_matrix[i][j]\n",
    "\n",
    "#The input given:\n",
    "og_matrix = [\n",
    "    [7, 4, 1],\n",
    "    [8, 5, 2],\n",
    "    [9, 6, 3]\n",
    "]\n",
    "\n",
    "\n",
    "rotate_matrix(og_matrix)\n",
    "for row in og_matrix:\n",
    "    print(row)\n"
   ]
  },
  {
   "cell_type": "code",
   "execution_count": 4,
   "metadata": {},
   "outputs": [
    {
     "name": "stdout",
     "output_type": "stream",
     "text": [
      "[9, 8, 7]\n",
      "[6, 5, 4]\n",
      "[3, 2, 1]\n"
     ]
    }
   ],
   "source": [
    "#Part 2\n",
    "#Output should be [9,8,7] [6,5,4] [3,2.1]\n",
    "def rotate_matrix(matrix):\n",
    "    n = len(matrix)\n",
    "\n",
    "    #Exchange elements in top row with elements in the bottom row\n",
    "    for i in range(n // 2):\n",
    "        for j in range(n):\n",
    "            matrix[i][j], matrix[n - 1 - i][j] = matrix[n - 1 - i][j], matrix[i][j]\n",
    "\n",
    "    #Swap the symmetry elements\n",
    "    for i in range(n):\n",
    "        for j in range(i + 1, n):\n",
    "            matrix[i][j], matrix[j][i] = matrix[j][i], matrix[i][j]\n",
    "\n",
    "#The input given:\n",
    "og_matrix = [\n",
    "    [7, 4, 1],\n",
    "    [8, 5, 2],\n",
    "    [9, 6, 3]\n",
    "]\n",
    "\n",
    "\n",
    "rotate_matrix(og_matrix)\n",
    "for row in og_matrix:\n",
    "    print(row)"
   ]
  }
 ],
 "metadata": {
  "kernelspec": {
   "display_name": "Python 3",
   "language": "python",
   "name": "python3"
  },
  "language_info": {
   "codemirror_mode": {
    "name": "ipython",
    "version": 3
   },
   "file_extension": ".py",
   "mimetype": "text/x-python",
   "name": "python",
   "nbconvert_exporter": "python",
   "pygments_lexer": "ipython3",
   "version": "3.10.11"
  },
  "orig_nbformat": 4
 },
 "nbformat": 4,
 "nbformat_minor": 2
}
