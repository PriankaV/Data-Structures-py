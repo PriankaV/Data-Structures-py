{
 "cells": [
  {
   "cell_type": "code",
   "execution_count": 3,
   "metadata": {},
   "outputs": [
    {
     "name": "stdout",
     "output_type": "stream",
     "text": [
      "True\n",
      "False\n",
      "True\n"
     ]
    }
   ],
   "source": [
    "def isAnagram(s, t):\n",
    "    #Checking to see if the 2 strings are diff lengths\n",
    "    if len(s) != len(t):\n",
    "        return False\n",
    "    \n",
    "    #Initializing an array to store the alphabet (26 letters)\n",
    "    alphabet_count = [0] * 26\n",
    "    \n",
    "    #Counting the occurrences of each letter in string s\n",
    "    for char in s:\n",
    "        alphabet_count[ord(char) - ord('a')] += 1\n",
    "    \n",
    "    #Decrement the count for each letter in string t\n",
    "    for char in t:\n",
    "        alphabet_count[ord(char) - ord('a')] -= 1\n",
    "        \n",
    "        #If the count is bellow 0, return False\n",
    "        if alphabet_count[ord(char) - ord('a')] < 0:\n",
    "            return False\n",
    "        \n",
    "    return all(count == 0 for count in alphabet_count)\n",
    "\n",
    "#Example One\n",
    "s1 = \"anagram\"\n",
    "t1 = \"nagaram\"\n",
    "#Example Two\n",
    "s2 = \"rat\"\n",
    "t2 = \"car\"\n",
    "#Test Example\n",
    "s3 = \"race\"\n",
    "t3 = \"care\"\n",
    "\n",
    "\n",
    "print(isAnagram(s1, t1)) #Output should be True\n",
    "print(isAnagram(s2, t2)) #Output should be False\n",
    "print(isAnagram(s3, t3)) #Output should be True\n"
   ]
  },
  {
   "cell_type": "code",
   "execution_count": null,
   "metadata": {},
   "outputs": [],
   "source": []
  }
 ],
 "metadata": {
  "kernelspec": {
   "display_name": "Python 3",
   "language": "python",
   "name": "python3"
  },
  "language_info": {
   "codemirror_mode": {
    "name": "ipython",
    "version": 3
   },
   "file_extension": ".py",
   "mimetype": "text/x-python",
   "name": "python",
   "nbconvert_exporter": "python",
   "pygments_lexer": "ipython3",
   "version": "3.10.11"
  },
  "orig_nbformat": 4
 },
 "nbformat": 4,
 "nbformat_minor": 2
}
