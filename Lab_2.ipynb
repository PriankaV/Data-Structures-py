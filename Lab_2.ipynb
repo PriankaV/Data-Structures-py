{
 "cells": [
  {
   "cell_type": "code",
   "execution_count": 19,
   "metadata": {},
   "outputs": [
    {
     "name": "stdout",
     "output_type": "stream",
     "text": [
      "[3, 2, 3, 4, 4, 4, 4, 5, 6, 8, 6]\n"
     ]
    }
   ],
   "source": [
    "#Input for the Array given in lab:[3, 5, 2, 6, 8, 4, 4, 6, 4, 4, 3]\n",
    "#Output value should be: [3, 2, 3, 4, 4, 4, 4, 5, 6, 8, 6]\n",
    "\n",
    "#Making a function and empty and initializing empty lists\n",
    "def RearrangeArray(A, x):\n",
    "    lessthan_x = []\n",
    "    equalto_x = []\n",
    "    greaterthan_x = []\n",
    "\n",
    "#Goes through each each element of the input array, then creates a list for when the elements are less than, equal to, greater than list\n",
    "    for num in A:\n",
    "        if num < A[x]:\n",
    "            lessthan_x.append(num)  \n",
    "        elif num == A[x]:\n",
    "            equalto_x.append(num)  \n",
    "        else:\n",
    "            greaterthan_x.append(num)\n",
    "    \n",
    "    result = lessthan_x + equalto_x + greaterthan_x\n",
    "    return result\n",
    "\n",
    "#Given input values:\n",
    "a = [3, 5, 2, 6, 8, 4, 4, 6, 4, 4, 3]\n",
    "x = 5\n",
    "\n",
    "\n",
    "output_array = RearrangeArray(a, x)\n",
    "print(output_array)\n"
   ]
  },
  {
   "cell_type": "code",
   "execution_count": 14,
   "metadata": {},
   "outputs": [
    {
     "name": "stdout",
     "output_type": "stream",
     "text": [
      "[3, 2, 3, 4, 4, 4, 4, 5, 6, 8, 6]\n"
     ]
    }
   ],
   "source": [
    "#Input Array given: [3, 5, 2, 6, 8, 4, 4, 6, 4, 4, 3]\n",
    "#Output value should be: [3, 2, 3, 4, 4, 4, 4, 5, 6, 8, 6]\n",
    "\n",
    "def rearrange_array(A, x):\n",
    "    #Keeping place holders to keep track of boundries\n",
    "    low = 0\n",
    "    mid = 0\n",
    "    high = len(A) - 1\n",
    "\n",
    "    #Switiching the numbers\n",
    "    while mid <= high:\n",
    "        if A[mid] < x:\n",
    "            A[low], A[mid] = A[mid], A[low]\n",
    "            low += 1\n",
    "            mid += 1\n",
    "        elif A[mid] == x:\n",
    "            mid += 1\n",
    "        else:\n",
    "            A[mid], A[high] = A[high], A[mid]\n",
    "            high -= 1\n",
    "\n",
    "    return A\n",
    "\n",
    "#Given input values\n",
    "a = [3, 5, 2, 6, 8, 4, 4, 6, 4, 4, 3]\n",
    "x = 5\n",
    "\n",
    "rearrange_array(a, x)\n",
    "print(a)\n"
   ]
  }
 ],
 "metadata": {
  "kernelspec": {
   "display_name": "Python 3",
   "language": "python",
   "name": "python3"
  },
  "language_info": {
   "codemirror_mode": {
    "name": "ipython",
    "version": 3
   },
   "file_extension": ".py",
   "mimetype": "text/x-python",
   "name": "python",
   "nbconvert_exporter": "python",
   "pygments_lexer": "ipython3",
   "version": "3.10.11"
  },
  "orig_nbformat": 4
 },
 "nbformat": 4,
 "nbformat_minor": 2
}
