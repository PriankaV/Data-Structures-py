{
 "cells": [
  {
   "cell_type": "code",
   "execution_count": 2,
   "metadata": {},
   "outputs": [],
   "source": [
    "def isBSTConstraints(root, min_val=float('-inf'), max_val=float('inf')):\n",
    "    #Base case: an empty tree is a BST\n",
    "    if root is None:\n",
    "        return True\n",
    "    \n",
    "    #Checking if the current node's value is within the allowed range\n",
    "    if not min_val < root.data < max_val:\n",
    "        return False\n",
    "    \n",
    "    #Recursively checking the left & right subtrees\n",
    "    return (isBSTConstraints(root.left, min_val, root.data) and\n",
    "            isBSTConstraints(root.right, root.data, max_val))\n",
    "\n",
    "#Test cases: Create trees violating BST condition, and check if function returns false\n"
   ]
  },
  {
   "cell_type": "code",
   "execution_count": null,
   "metadata": {},
   "outputs": [],
   "source": [
    "def isBSTInOrderTraversal(root, prev=[float('-inf')]):\n",
    "    #Base case: an empty tree is a BST\n",
    "    if root is None:\n",
    "        return True\n",
    "    \n",
    "    #Checking left subtree\n",
    "    if not isBSTInOrderTraversal(root.left, prev):\n",
    "        return False\n",
    "    \n",
    "    #Checking the current node's value\n",
    "    if root.data <= prev[0]:\n",
    "        return False\n",
    "\n",
    "    prev[0] = root.data\n",
    "    \n",
    "    #Checking right subtree\n",
    "    return isBSTInOrderTraversal(root.right, prev)\n",
    "\n",
    "#Test case: Create trees with violations and check results\n"
   ]
  }
 ],
 "metadata": {
  "kernelspec": {
   "display_name": "Python 3",
   "language": "python",
   "name": "python3"
  },
  "language_info": {
   "codemirror_mode": {
    "name": "ipython",
    "version": 3
   },
   "file_extension": ".py",
   "mimetype": "text/x-python",
   "name": "python",
   "nbconvert_exporter": "python",
   "pygments_lexer": "ipython3",
   "version": "3.10.11"
  }
 },
 "nbformat": 4,
 "nbformat_minor": 2
}
