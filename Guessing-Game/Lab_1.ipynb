{
 "cells": [
  {
   "cell_type": "code",
   "execution_count": null,
   "metadata": {},
   "outputs": [],
   "source": [
    "def get_name():\n",
    "    name = input(\"What is your name?\")\n",
    "    while name.strip() == \"\":\n",
    "        name = input(\"Please enter your name:\")\n",
    "    return name\n",
    "   \n",
    "def main():\n",
    "    name = get_name()\n",
    "    print(f\"Hello, {name}!\")\n",
    "\n",
    "\n",
    "if __name__ == \"__main__\":\n",
    "    main()"
   ]
  },
  {
   "cell_type": "code",
   "execution_count": null,
   "metadata": {},
   "outputs": [],
   "source": [
    "def get_integer():\n",
    "    try:\n",
    "        n = int(input())\n",
    "        if n <= 0:\n",
    "            print(f\"Please enter a positive number between 0 and 100.\")\n",
    "            return None\n",
    "        elif n>100:\n",
    "            print(f\"Please enter a number within the range of 0 to 100.\")\n",
    "            return None\n",
    "        else:\n",
    "            return n\n",
    "    except ValueError:\n",
    "        print(\"Invalid input. Please enter a positive integer.\")\n",
    "        return None\n",
    "\n",
    "\n",
    "def main():\n",
    "    \n",
    "    print(\"Welcome to Guess My Number!\")\n",
    "    print(f\"Please think of a number between 0 and 100.\")\n",
    "    \n",
    "    n = None\n",
    "    while n is None:\n",
    "        n = get_integer()\n",
    " \n",
    "    low = 0\n",
    "    high = 100\n",
    "\n",
    "    while low<=high:\n",
    "        guess = (low + high) // 2\n",
    "        print(f\"Is your number: {guess}?\")\n",
    "        response = input(\"Please enter C for correct, H for too high, or L for too low.\\nEnter your response (H/L/C): \").strip().upper()\n",
    "\n",
    "        if response == \"C\":\n",
    "            print(\"Thank you for playing Guess My Number!\")\n",
    "            break\n",
    "        elif response == \"H\":\n",
    "            high = (guess + high) // 2\n",
    "        elif response == \"L\":\n",
    "            low = (guess + low) // 2\n",
    "        else:\n",
    "            print(\"Invalid response. Please enter H, L, or C.\")\n",
    "\n",
    "if __name__ == \"__main__\":\n",
    "    main()"
   ]
  }
 ],
 "metadata": {
  "kernelspec": {
   "display_name": "Python 3",
   "language": "python",
   "name": "python3"
  },
  "language_info": {
   "codemirror_mode": {
    "name": "ipython",
    "version": 3
   },
   "file_extension": ".py",
   "mimetype": "text/x-python",
   "name": "python",
   "nbconvert_exporter": "python",
   "pygments_lexer": "ipython3",
   "version": "3.10.11"
  },
  "orig_nbformat": 4
 },
 "nbformat": 4,
 "nbformat_minor": 2
}
