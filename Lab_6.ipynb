{
 "cells": [
  {
   "cell_type": "code",
   "execution_count": null,
   "metadata": {},
   "outputs": [],
   "source": [
    "def quick_sort(arr, low, high):\n",
    "    if low < high:\n",
    "        pivot_index = partition(arr, low, high)\n",
    "        quick_sort(arr, low, pivot_index)\n",
    "        quick_sort(arr, pivot_index + 1, high)\n",
    "\n",
    "def partition(arr, low, high):\n",
    "    pivot = arr[low]\n",
    "    left = low + 1\n",
    "    right = high\n",
    "    done = False\n",
    "    \n",
    "    while not done:\n",
    "        while left <= right and arr[left] <= pivot:\n",
    "            left += 1\n",
    "        while arr[right] >= pivot and right >= left:\n",
    "            right -= 1\n",
    "        if right < left:\n",
    "            done = True\n",
    "        else:\n",
    "            arr[left], arr[right] = arr[right], arr[left]\n",
    "    \n",
    "    arr[low], arr[right] = arr[right], arr[low]\n",
    "    return right\n",
    "\n",
    "def deduplicate(arr):\n",
    "    unique_set = set()\n",
    "    deduplicated_arr = []\n",
    "    for num in arr:\n",
    "        if num not in unique_set:\n",
    "            deduplicated_arr.append(num)\n",
    "            unique_set.add(num)\n",
    "    return deduplicated_arr\n",
    "\n",
    "\"\"\"Test Cases\n",
    "Test Case 1:\n",
    "    Check if the code can correctly sort the input array using the quick sort algorithm and then deduplicate it.\n",
    "\n",
    "Test Case 2: (Empty Array) checks if the code handles an empty input array\n",
    "    arr4 = []\n",
    "    quick_sort(arr4, 0, len(arr4) - 1)\n",
    "    deduplicated_arr4 = deduplicate(arr4)\n",
    "    assert deduplicated_arr4 == [], \"Test Case 4 Failed\"\n",
    "\"\"\""
   ]
  }
 ],
 "metadata": {
  "kernelspec": {
   "display_name": "Python 3",
   "language": "python",
   "name": "python3"
  },
  "language_info": {
   "name": "python",
   "version": "3.10.11"
  },
  "orig_nbformat": 4
 },
 "nbformat": 4,
 "nbformat_minor": 2
}
