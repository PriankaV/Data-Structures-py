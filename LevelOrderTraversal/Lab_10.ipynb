{
 "cells": [
  {
   "cell_type": "code",
   "execution_count": 4,
   "metadata": {},
   "outputs": [
    {
     "name": "stdout",
     "output_type": "stream",
     "text": [
      "[45, 90, 67, 13, 78, 22, 111]\n"
     ]
    }
   ],
   "source": [
    "from collections import deque\n",
    "\n",
    "class Node:\n",
    "    def __init__(self, key):\n",
    "        self.data = key\n",
    "        self.left = None\n",
    "        self.right = None\n",
    "\n",
    "#Function to perform level order traversal\n",
    "def level_order_traversal(root):\n",
    "    if root is None:\n",
    "        return []  #If tree is empty, return empty list\n",
    "\n",
    "    result = []\n",
    "    queue = deque()\n",
    "    queue.append(root)  #Start with the root node\n",
    "\n",
    "    while queue:\n",
    "        current_node = queue.popleft()  #Get first node in the queue (FIFO)\n",
    "\n",
    "        result.append(current_node.data)  #Add current node's data to result list\n",
    "\n",
    "        #Add left child to queue if it exists\n",
    "        if current_node.left:\n",
    "            queue.append(current_node.left)\n",
    "\n",
    "        #Add right child to the queue if it exists\n",
    "        if current_node.right:\n",
    "            queue.append(current_node.right)\n",
    "\n",
    "    return result\n",
    "\n",
    "#Testing it out\n",
    "root = Node(45)\n",
    "root.left = Node(90)\n",
    "root.right = Node(67)\n",
    "root.left.left = Node(13)\n",
    "root.left.right = Node(78)\n",
    "root.right.left = Node(22)\n",
    "root.right.right = Node(111)\n",
    "\n",
    "result = level_order_traversal(root)\n",
    "print(result)  #Output should be: [45, 90, 67, 13, 78, 22, 111]\n"
   ]
  }
 ],
 "metadata": {
  "kernelspec": {
   "display_name": "Python 3",
   "language": "python",
   "name": "python3"
  },
  "language_info": {
   "codemirror_mode": {
    "name": "ipython",
    "version": 3
   },
   "file_extension": ".py",
   "mimetype": "text/x-python",
   "name": "python",
   "nbconvert_exporter": "python",
   "pygments_lexer": "ipython3",
   "version": "3.10.11"
  }
 },
 "nbformat": 4,
 "nbformat_minor": 2
}
