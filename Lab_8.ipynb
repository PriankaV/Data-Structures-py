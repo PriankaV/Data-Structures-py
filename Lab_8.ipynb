{
 "cells": [
  {
   "cell_type": "code",
   "execution_count": 1,
   "metadata": {},
   "outputs": [
    {
     "name": "stdout",
     "output_type": "stream",
     "text": [
      "Result: 7\n"
     ]
    }
   ],
   "source": [
    "from collections import deque\n",
    "\n",
    "def calculate_expression(expression):\n",
    "    #Create a deque to act as a stack\n",
    "    stack = deque()\n",
    "\n",
    "    #Split the expression into tokens (numbers and operators)\n",
    "    tokens = expression.split()\n",
    "\n",
    "    for token in tokens:\n",
    "        if token.isdigit() or (token[0] == '-' and token[1:].isdigit()):\n",
    "            #If the token is a number or a negative number, push it onto the stack\n",
    "            stack.append(int(token))\n",
    "        elif token in ('+', '-', '*', '/'):\n",
    "            #If the token is an operator, pop the top two numbers from the stack\n",
    "            if len(stack) < 2:\n",
    "                raise ValueError(\"Invalid expression: Not enough operands for operator\")\n",
    "            b = stack.pop()\n",
    "            a = stack.pop()\n",
    "\n",
    "            #Perform the operation and push the result back onto the stack\n",
    "            if token == '+':\n",
    "                result = a + b\n",
    "            elif token == '-':\n",
    "                result = a - b\n",
    "            elif token == '*':\n",
    "                result = a * b\n",
    "            elif token == '/':\n",
    "                result = a / b\n",
    "\n",
    "            stack.append(result)\n",
    "        else:\n",
    "            raise ValueError(\"Invalid token: \" + token)\n",
    "        \n",
    "\n",
    "    #At the end, the stack should contain the final result\n",
    "    if len(stack) != 1:\n",
    "        raise ValueError(\"Invalid expression: Too many operands or operators\")\n",
    "\n",
    "    return stack.pop()\n",
    "\n",
    "#Example gven:\n",
    "expression = \"3 5 + 1 -\"\n",
    "result = calculate_expression(expression)\n",
    "print(\"Result:\", result)"
   ]
  }
 ],
 "metadata": {
  "kernelspec": {
   "display_name": "Python 3",
   "language": "python",
   "name": "python3"
  },
  "language_info": {
   "codemirror_mode": {
    "name": "ipython",
    "version": 3
   },
   "file_extension": ".py",
   "mimetype": "text/x-python",
   "name": "python",
   "nbconvert_exporter": "python",
   "pygments_lexer": "ipython3",
   "version": "3.10.11"
  }
 },
 "nbformat": 4,
 "nbformat_minor": 2
}
