{
 "cells": [
  {
   "cell_type": "code",
   "execution_count": 1,
   "metadata": {},
   "outputs": [
    {
     "name": "stdout",
     "output_type": "stream",
     "text": [
      "0 1 3 5 2 4 "
     ]
    },
    {
     "data": {
      "text/plain": [
       "'\\nTest Case 1: Test with a different graph\\ng2 = Graph(7)\\ng2.addEdge(0, 1)\\ng2.addEdge(0, 2)\\ng2.addEdge(1, 3)\\ng2.addEdge(1, 4)\\ng2.addEdge(2, 5)\\ng2.addEdge(2, 6)\\n\\nprint(\"Test Case 1:\")\\ndfs_traversal(g2)\\n\\n#Test Case 2: Test with single-node graph\\ng3 = Graph(1)\\nprint(\"\\nTest Case 2:\")\\ndfs_traversal(g3)\\n'"
      ]
     },
     "execution_count": 1,
     "metadata": {},
     "output_type": "execute_result"
    }
   ],
   "source": [
    "class Graph:\n",
    "    def __init__(self, V):\n",
    "        self.V = V  #Number of vertices\n",
    "        self.adj = [[] for _ in range(V)]  #Adjacency lists\n",
    "\n",
    "    def addEdge(self, v, w):\n",
    "        self.adj[v].append(w)  #Add w to the list of v.\n",
    "\n",
    "\n",
    "def dfs_recursive(graph, node, visited):\n",
    "    \"\"\"\n",
    "    Recursive function for depth-first traversal of a graph.\n",
    "    :param graph: Graph object\n",
    "    :param node: Current node/vertex\n",
    "    :param visited: Set to keep track of visited nodes\n",
    "    \"\"\"\n",
    "    #Mark the current node as visited\n",
    "    visited.add(node)\n",
    "    print(node, end=\" \")  #Process the current node\n",
    "\n",
    "    #Recurse for adjacent v\n",
    "    for neighbor in graph.adj[node]:\n",
    "        if neighbor not in visited:\n",
    "            dfs_recursive(graph, neighbor, visited)\n",
    "\n",
    "\n",
    "#Creating a Graph\n",
    "g = Graph(6)\n",
    "g.addEdge(0, 1)\n",
    "g.addEdge(0, 2)\n",
    "g.addEdge(2, 3)\n",
    "g.addEdge(2, 4)\n",
    "g.addEdge(4, 5)\n",
    "g.addEdge(1, 3)\n",
    "g.addEdge(3, 5)\n",
    "\n",
    "#Perform DFS traversal starting at node 0\n",
    "def dfs_traversal(graph):\n",
    "    #Set to keep track of visited nodes\n",
    "    visited = set()\n",
    "    dfs_recursive(graph, 0, visited)\n",
    "\n",
    "dfs_traversal(g) #Output should be: 0 1 3 5 2 4 \n",
    "\n",
    "'''\n",
    "Test Case 1: Test with a different graph\n",
    "g2 = Graph(7)\n",
    "g2.addEdge(0, 1)\n",
    "g2.addEdge(0, 2)\n",
    "g2.addEdge(1, 3)\n",
    "g2.addEdge(1, 4)\n",
    "g2.addEdge(2, 5)\n",
    "g2.addEdge(2, 6)\n",
    "\n",
    "print(\"Test Case 1:\")\n",
    "dfs_traversal(g2)\n",
    "\n",
    "#Test Case 2: Test with single-node graph\n",
    "g3 = Graph(1)\n",
    "print(\"\\nTest Case 2:\")\n",
    "dfs_traversal(g3)\n",
    "'''\n"
   ]
  }
 ],
 "metadata": {
  "kernelspec": {
   "display_name": "Python 3",
   "language": "python",
   "name": "python3"
  },
  "language_info": {
   "codemirror_mode": {
    "name": "ipython",
    "version": 3
   },
   "file_extension": ".py",
   "mimetype": "text/x-python",
   "name": "python",
   "nbconvert_exporter": "python",
   "pygments_lexer": "ipython3",
   "version": "3.10.11"
  }
 },
 "nbformat": 4,
 "nbformat_minor": 2
}
