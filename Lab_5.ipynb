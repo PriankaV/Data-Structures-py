{
 "cells": [
  {
   "cell_type": "code",
   "execution_count": 1,
   "metadata": {},
   "outputs": [
    {
     "name": "stdout",
     "output_type": "stream",
     "text": [
      "[['eat', 'tea', 'ate'], ['tan', 'nat'], ['bat']]\n"
     ]
    }
   ],
   "source": [
    "from collections import defaultdict\n",
    "\n",
    "def group_anagrams(str):\n",
    "    #Defaultdict, list with default values\n",
    "    anagram_groups = defaultdict(list)\n",
    "\n",
    "    #Iterating through each word\n",
    "    for word in str:\n",
    "        #Initialize a count tuple with zeros for all 26 letters\n",
    "        count = [0] * 26\n",
    "        \n",
    "        #Counting the occurrences characters in the word\n",
    "        for char in word:\n",
    "            count[ord(char) - ord('a')] += 1\n",
    "        \n",
    "        #Converting count list to a tuple\n",
    "        anagram_groups[tuple(count)].append(word)\n",
    "\n",
    "    return list(anagram_groups.values())\n",
    "\n",
    "#Example input\n",
    "strs = [\"eat\", \"tea\", \"tan\", \"ate\", \"nat\", \"bat\"]\n",
    "\n",
    "result = group_anagrams(str)\n",
    "print(result)"
   ]
  }
 ],
 "metadata": {
  "kernelspec": {
   "display_name": "Python 3",
   "language": "python",
   "name": "python3"
  },
  "language_info": {
   "codemirror_mode": {
    "name": "ipython",
    "version": 3
   },
   "file_extension": ".py",
   "mimetype": "text/x-python",
   "name": "python",
   "nbconvert_exporter": "python",
   "pygments_lexer": "ipython3",
   "version": "3.10.11"
  },
  "orig_nbformat": 4
 },
 "nbformat": 4,
 "nbformat_minor": 2
}
