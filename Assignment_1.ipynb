{
 "cells": [
  {
   "cell_type": "code",
   "execution_count": 4,
   "metadata": {},
   "outputs": [
    {
     "name": "stdout",
     "output_type": "stream",
     "text": [
      "[6, 9, 11, 21]\n"
     ]
    },
    {
     "data": {
      "text/plain": [
       "'Test cases:\\nCase 1: Null input case\\nnull_input_result = bruteForce(None, [2, 6, 9, 11, 17, 21])\\n\\nCase 2: Arrays with length one\\nsingle_element_result = bruteForce([1], [1])\\n'"
      ]
     },
     "execution_count": 4,
     "metadata": {},
     "output_type": "execute_result"
    }
   ],
   "source": [
    "#O(m*n)\n",
    "def bruteForce(array1, array2):\n",
    "    #Check if the inputs are valid lists\n",
    "    if type(array1) != list or type(array2) != list:\n",
    "        return(\"Arrays not given.\")\n",
    "\n",
    "    arrC = []  #Initialize an empty list to store common elements\n",
    "    i = 0 \n",
    "\n",
    "    #Go through each element in Array A\n",
    "    while i < len(array1):\n",
    "        j = 0  #Initialize the index for Array B\n",
    "\n",
    "        #Go through each element in Array B\n",
    "        while j < len(array2):\n",
    "            #If an element in Array A is equal to an element in Array B\n",
    "            if array1[i] == array2[j] and array1[i] not in arrC:  #Check for duplicates in arrC\n",
    "                #Add the common element to the new Array arrC\n",
    "                arrC.append(array1[i])\n",
    "            j += 1  #Move to the next element in Array B\n",
    "        i += 1  #Move to the next element in Array A\n",
    "\n",
    "    if len(arrC) == 0:\n",
    "        return(\"No overlap.\")  #If no common elements were found, return this message\n",
    "    return arrC  #Return the list of common elements\n",
    "\n",
    "arrA = [1, 6, 9, 10, 11, 21]\n",
    "arrB = [2, 6, 9, 11, 17, 21]\n",
    "\n",
    "print(bruteForce(arrA, arrB))  #Output should be: [6, 9, 11, 21]\n",
    "\n",
    "\"\"\"Test cases:\n",
    "Case 1: Null input case\n",
    "null_input_result = bruteForce(None, [2, 6, 9, 11, 17, 21])\n",
    "\n",
    "Case 2: Arrays with length one\n",
    "single_element_result = bruteForce([1], [1])\n",
    "\"\"\""
   ]
  },
  {
   "cell_type": "code",
   "execution_count": 10,
   "metadata": {},
   "outputs": [
    {
     "name": "stdout",
     "output_type": "stream",
     "text": [
      "[6, 9, 11, 21]\n"
     ]
    },
    {
     "data": {
      "text/plain": [
       "'Test cases:\\n\\nCase 2: One array is empty\\nempty_array_result = common_elements_binary([], [2, 6, 9, 11, 17, 21])\\n\\nCase 2: Both arrays are empty\\nempty_result = common_elements_binary([], [])\\n\\nCase 3: Null input case\\nnull_input_result = common_elements_binary(None, [2, 6, 9, 11, 17, 21])\\n\\nCase 4: Arrays with length one\\nsingle_element_result = common_elements_binary([1], [1])\\n\\nCase 5: Regular case with non-empty arrays\\narray1 = [1, 6, 9, 10, 11, 21]\\narray2 = [2, 6, 9, 11, 17, 21]\\nresult = common_elements_binary(array1, array2)\\n'"
      ]
     },
     "execution_count": 10,
     "metadata": {},
     "output_type": "execute_result"
    }
   ],
   "source": [
    "#O(nlog(m))\n",
    "def binary_search(arr, target):\n",
    "    left = 0\n",
    "    right = len(arr) - 1\n",
    "\n",
    "    while left <= right:\n",
    "        mid = left + (right - left) // 2  #Calculate middle index\n",
    "        \n",
    "        if arr[mid] == target:  #If the middle element = target, return index\n",
    "            return mid\n",
    "        elif arr[mid] < target:  #If  middle element < target, search right half\n",
    "            left = mid + 1\n",
    "        else:  #If the middle element > target, search left half\n",
    "            right = mid - 1\n",
    "    \n",
    "    return -1  #Target element not found\n",
    "\n",
    "def  common_elements_binary(arr1, arr2):\n",
    "    result = []  #Initialize an empty list to store common elements\n",
    "    \n",
    "    #Check if either of the input arrays is None\n",
    "    if arr1 is None or arr2 is None:\n",
    "        return result\n",
    "    \n",
    "    for num in arr1:\n",
    "        index = binary_search(arr2, num)\n",
    "        \n",
    "        if index != -1:  #If the element is found in arr2, check for duplicates\n",
    "            if not result or result[-1] != num:\n",
    "                result.append(num)  #Add the unique common element to results\n",
    "    \n",
    "    return result\n",
    "\n",
    "arrA =  [1, 6, 9, 10, 11, 21]\n",
    "arrB = [2, 6, 9, 11, 17, 21]\n",
    "common_elements = common_elements_binary(arrA, arrB)  #Finding common elements\n",
    "print(common_elements)  #Output: [6, 9, 11, 21]\n",
    "\n",
    "\"\"\"Test cases:\n",
    "\n",
    "Case 2: One array is empty\n",
    "empty_array_result = common_elements_binary([], [2, 6, 9, 11, 17, 21])\n",
    "\n",
    "Case 2: Both arrays are empty\n",
    "empty_result = common_elements_binary([], [])\n",
    "\n",
    "Case 3: Null input case\n",
    "null_input_result = common_elements_binary(None, [2, 6, 9, 11, 17, 21])\n",
    "\n",
    "Case 4: Arrays with length one\n",
    "single_element_result = common_elements_binary([1], [1])\n",
    "\n",
    "Case 5: Regular case with non-empty arrays\n",
    "array1 = [1, 6, 9, 10, 11, 21]\n",
    "array2 = [2, 6, 9, 11, 17, 21]\n",
    "result = common_elements_binary(array1, array2)\n",
    "\"\"\""
   ]
  },
  {
   "cell_type": "code",
   "execution_count": 11,
   "metadata": {},
   "outputs": [
    {
     "name": "stdout",
     "output_type": "stream",
     "text": [
      "[6, 9, 11, 21]\n"
     ]
    },
    {
     "data": {
      "text/plain": [
       "'Test cases:\\n\\nCase 1: One array is empty\\nempty_array_result = common_elements_linear([], [2, 6, 9, 11, 17, 21])\\n\\nCase 2: Both arrays are empty\\nempty_result = common_elements_linear([], [])\\n\\nCase 3: Null input case\\nnull_input_result = find_common_elements_linear(None, [2, 6, 9, 11, 17, 21])\\n\\nCase 4: Arrays with length one\\nsingle_element_result = common_elements_linear([1], [1])\\n'"
      ]
     },
     "execution_count": 11,
     "metadata": {},
     "output_type": "execute_result"
    }
   ],
   "source": [
    "#O(m+n)\n",
    "def common_elements_linear(arr1, arr2):\n",
    "    result = []\n",
    "    i = 0  #Initialize two pointers\n",
    "    j = 0\n",
    "\n",
    "    #Iterate through both arrays\n",
    "    while i < len(arr1) and j < len(arr2):\n",
    "        if arr1[i] == arr2[j]:\n",
    "            #Check if the result list is empty or current element != last element in the result\n",
    "            if not result or result[-1] != arr1[i]:\n",
    "                result.append(arr1[i])\n",
    "            i += 1  #Move both pointers to check the next elements\n",
    "            j += 1\n",
    "        elif arr1[i] < arr2[j]:\n",
    "            #If element in arr1 < move pointer next\n",
    "            i += 1\n",
    "        else:\n",
    "            #If element in arr2 < move pointer next\n",
    "            j += 1\n",
    "\n",
    "    return result\n",
    "\n",
    "arrA = [1, 6, 9, 10, 11, 21]\n",
    "arrB = [2, 6, 9, 11, 17, 21]\n",
    "\n",
    "common_elements = common_elements_linear(arrA, arrB)\n",
    "print(common_elements)  #Output: [6, 9, 11, 21]\n",
    "\n",
    "\"\"\"Test cases:\n",
    "\n",
    "Case 1: One array is empty\n",
    "empty_array_result = common_elements_linear([], [2, 6, 9, 11, 17, 21])\n",
    "\n",
    "Case 2: Both arrays are empty\n",
    "empty_result = common_elements_linear([], [])\n",
    "\n",
    "Case 3: Null input case\n",
    "null_input_result = find_common_elements_linear(None, [2, 6, 9, 11, 17, 21])\n",
    "\n",
    "Case 4: Arrays with length one\n",
    "single_element_result = common_elements_linear([1], [1])\n",
    "\"\"\""
   ]
  }
 ],
 "metadata": {
  "kernelspec": {
   "display_name": "Python 3",
   "language": "python",
   "name": "python3"
  },
  "language_info": {
   "codemirror_mode": {
    "name": "ipython",
    "version": 3
   },
   "file_extension": ".py",
   "mimetype": "text/x-python",
   "name": "python",
   "nbconvert_exporter": "python",
   "pygments_lexer": "ipython3",
   "version": "3.10.11"
  },
  "orig_nbformat": 4
 },
 "nbformat": 4,
 "nbformat_minor": 2
}
